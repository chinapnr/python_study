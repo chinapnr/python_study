{
 "cells": [
  {
   "cell_type": "markdown",
   "metadata": {
    "collapsed": true
   },
   "source": [
    "# Lesson 1\n",
    "Python Basic, Lesson 1, v1.0.1, 2016.12 by David.Yi\n",
    "\n",
    "Python Basic, Lesson 1, v1.0.2, 2017.02 modified by Eamon.Zhang\n",
    "\n",
    "### 本次内容要点\n",
    "\n",
    "* python 简介\n",
    "* 准备工作\n",
    "    * 使用标准的 python 和 IDLE\n",
    "    * anaconda 介绍\n",
    "    * jupyter 和 notebook介绍\n",
    "* 基本变量概念\n",
    "* print() 和 input() 用法\n",
    "* pycharm 用法介绍\n",
    "\n"
   ]
  },
  {
   "cell_type": "markdown",
   "metadata": {
    "collapsed": true
   },
   "source": [
    "### python 简介\n",
    "\n",
    "#### 定义（来自 wiki）\n",
    "\n",
    "Python，是一种面向对象、解释型的计算机程序语言。它包含了一组功能完备的标准库，能够轻松完成很多常见的任务。它的语法简单，与其它大多数程序设计语言使用大括号不一样，它使用缩进来定义语句块。\n",
    "\n",
    "与Scheme、Ruby、Perl、Tcl等动态语言一样，Python 具备垃圾回收功能，能够自动管理内存使用。它经常被当作脚本语言用于处理系统管理任务和网络程序编写，然而它也非常适合完成各种高级任务。Python 虚拟机本身几乎可以在所有的作业系统中运行。使用一些诸如 py2exe、PyPy、PyInstaller之类的工具可以将 Python 源代码转换成可以脱离 Python 解释器运行的程序。\n",
    "\n",
    "Python的官方解释器是CPython，该解释器用C语言编写，是一个由社区驱动的自由软件，目前由Python软件基金会管理。\n",
    "\n",
    "Python支持命令式程序设计、面向对象程序设计、函数式编程、面向侧面的程序设计、泛型编程多种编程范式。\n",
    "\n",
    "#### 创始人\n",
    "Python的创始人为吉多·范罗苏姆（Guido van Rossum）\n",
    "\n",
    "#### 版本\n",
    "\n",
    "Python 2.0于2000年10月16日发布，增加了实现完整的垃圾回收，并且支持Unicode。同时，整个开发过程更加透明，社区对开发进度的影响逐渐扩大。目前2系列的最新版本是 2.7.12，2.7版本将在2020年被停止支持。\n",
    "\n",
    "Python 3.0于2008年12月3日发布，此版不完全兼容之前的Python源代码。不过，很多新特性后来也被移植到旧的Python 2.6/2.7版本。目前最新版本是3.6.0，发布于2016年12月。\n",
    "\n",
    "#### Python能做什么？\n",
    "\n",
    "![](imgs/python_use.jpg)\n",
    "\n",
    "#### 设计哲学\n",
    "\n",
    "Python 的设计哲学是“优雅”、“明确”、“简单”。Python 开发者的哲学是“用一种方法，最好是只有一种方法来做一件事”，也因此它和拥有明显个人风格的其他语言很不一样。在设计Python语言时，如果面临多种选择，Python 开发者一般会拒绝花俏的语法，而选择明确没有或者很少有歧义的语法。这些准则被称为“Python格言”。在 Python 解释器内运行 import this可以获得完整的列表。\n",
    "\n",
    "#### 提高编程能力的体会\n",
    "\n",
    "* 世界观和人生观\n",
    "* 天赋\n",
    "* 勤奋\n",
    "* 阅读\n",
    "* 实践，实践，再实践\n",
    "* 搜索技巧"
   ]
  },
  {
   "cell_type": "markdown",
   "metadata": {
    "collapsed": true
   },
   "source": [
    "### 准备工作\n",
    "\n",
    "* 下载安装 python 最新版本。\n",
    "\n",
    "* 或者下载安装 anaconda 最新版本。anaconda 是一个强大的、开源的 python 整体解决方案，包括最新版本的 python、jupyter、精选的 python 第三方库等。\n",
    "\n",
    "#### 使用标准的 python 和 IDLE\n",
    "\n",
    "首先到 python 官网 (www.python.org)，找到下载链接，目前最新版本是 3.5.2，不建议再使用 2.x 系列了。从 download 链接看到下面这个。\n",
    "\n",
    "![](imgs/python_install.jpeg)\n",
    "\n",
    "windows 操作系统只需要下载32位版本即可，对于 python 的学习不会有任何影响，mac 电脑下载对应的最新版本就可以了。\n",
    "\n",
    "以 windows 操作系统举例，下载后，执行安装程序，如下：\n",
    "\n",
    "![](imgs/python_install_1.jpeg)\n",
    "\n",
    "一般情况下不用做任何修改，几分钟就安装好了，如下:\n",
    "\n",
    "![](imgs/python_install_2.jpeg)\n",
    "\n",
    "安装好后，在开始菜单找到 python 3.5 程序组，看到其中的 IDLE(Python 3.5 32bit)，运行后就会出现下面的 python shell：\n",
    "\n",
    "![](imgs/python_install_5.png)\n",
    "\n",
    "可以在这里输入简单的 python 程序，正确的话，会执行，错误的话，会报错。\n",
    "\n",
    "![](imgs/python_install_3.jpeg)\n",
    "\n",
    "不过在这个 shell 里面编辑稍微长一点的 python 程序会比较麻烦，所以，可以在 shell 的 File 菜单里面选择第一项 New File，这时候，一个编辑器窗口就出现了。\n",
    "\n",
    "在编辑器里可以编写比较长的程序，选择菜单 Run 里面的 Run Module，就可以运行程序，结果会显示在一个 shell 窗口中，就像下面这样，注意在运行程序前是需要保存程序文件的。\n",
    "\n",
    "![](imgs/python_install_4.jpeg)\n",
    "\n",
    "---\n",
    "\n",
    "#### anaconda 介绍\n",
    "\n",
    "![](imgs/anaconda.png)\n",
    "\n",
    "对于初学者，python 的安装也许并不容易，尤其面临 python 版本的困境，浪费了很多宝贵的时间，甚至让人放弃的感觉，anaconda 是一种简便的安装方法，可以完美的兼容 python2.7 和 python3.5，并集成了许多 packages（第三方包），免去配置环境变量的烦恼，\n",
    "\n",
    "我们选择 anaconda的优势如下：\n",
    "\n",
    "* 不需要配置PYTHON环境变量；\n",
    "* 集成很多packages，省去一一下载的麻烦；\n",
    "* packages的安装很简单，conda一键解决；\n",
    "* 可以配置python3.5版本的环境，方便切换，互不干扰，兼容性强\n",
    "\n",
    "anaconda的下载地址：https://www.continuum.io/downloads \n",
    "\n",
    "详细的 anaconda 安装过程可以参考：http://www.jianshu.com/p/3996d6ed03a6\n",
    "\n",
    "---\n",
    "\n",
    "#### jupyter 和 notebook介绍\n",
    "\n",
    "![](imgs/jupyter.png)\n",
    "\n",
    "Jupyter Notebook（此前被称为 IPython notebook）是一个交互式笔记本，支持运行 40 多种编程语言。在本文中，我们将介绍 Jupyter notebook 的主要特性，以及为什么对于希望编写漂亮的交互式文档的人来说是一个强大工具。\n",
    "\n",
    "如果安装了 anaconda，只要执行`jupyter notebook` 就可以启动了 jupyter 的服务端，\n",
    "\n",
    "如果没有安装 anaconda，可以执行  `pip install jupyter` ，来安装 jupyter，其实它也是 python 的一个第三方扩展包。\n",
    "\n",
    "我们的整个教学实践都会在 jupyter 环境下进行，因此各位会渐渐熟悉起来"
   ]
  },
  {
   "cell_type": "markdown",
   "metadata": {
    "collapsed": true
   },
   "source": [
    "### 基本变量概念\n",
    "\n",
    "Python 中的变量赋值不需要类型声明。\n",
    "\n",
    "每个变量在内存中创建，都包括变量的标识，名称和数据这些信息。\n",
    "每个变量在使用前都必须赋值，变量赋值以后该变量才会被创建。\n",
    "等号（=）用来给变量赋值。\n",
    "等号（=）运算符左边是一个变量名,等号（=）运算符右边是存储在变量中的值。\n",
    "\n"
   ]
  },
  {
   "cell_type": "code",
   "execution_count": 18,
   "metadata": {
    "collapsed": false
   },
   "outputs": [],
   "source": [
    "counter = 100  # 整型变量\n",
    "miles = 1000.0 # 浮点型（小数）\n",
    "name = \"John\"  # 字符串\n",
    "name2 = 'Tom'\n",
    "bool = True  # 布尔值"
   ]
  },
  {
   "cell_type": "code",
   "execution_count": 1,
   "metadata": {
    "collapsed": false
   },
   "outputs": [
    {
     "name": "stdout",
     "output_type": "stream",
     "text": [
      "1 2 1\n",
      "Hello Hello\n"
     ]
    }
   ],
   "source": [
    "# 多个变量赋值\n",
    "\n",
    "a = b = c = 1\n",
    "b =2 \n",
    "print(a,b,c)\n",
    "\n",
    "s = s1 = 'Hello'\n",
    "print(s,s1)"
   ]
  },
  {
   "cell_type": "code",
   "execution_count": 3,
   "metadata": {
    "collapsed": false
   },
   "outputs": [
    {
     "name": "stdout",
     "output_type": "stream",
     "text": [
      "1 2 3\n"
     ]
    }
   ],
   "source": [
    "# 多个变量赋值\n",
    "\n",
    "a, b, c = 1, 2, 3\n",
    "print(a,b,c)"
   ]
  },
  {
   "cell_type": "code",
   "execution_count": 2,
   "metadata": {
    "collapsed": false
   },
   "outputs": [
    {
     "name": "stdout",
     "output_type": "stream",
     "text": [
      "2 1\n"
     ]
    }
   ],
   "source": [
    "# 交换变量\n",
    "a, b = 1, 2\n",
    "a, b = b, a \n",
    "print(a,b)"
   ]
  },
  {
   "cell_type": "markdown",
   "metadata": {},
   "source": [
    "#### 动态语言\n",
    "Python是动态语言，即变量本身的类型不固定\n",
    "\n",
    "与之对应的静态语言（如Java），在定义变量时，必须先指定变量类型，赋值时如不匹配则报错"
   ]
  },
  {
   "cell_type": "markdown",
   "metadata": {},
   "source": [
    "#### 理解Python变量在内存中的表示\n",
    "当我们输入 a = 'yimeng' 时，Python解释器做了2件事情：\n",
    "\n",
    "1 在内存中创建了一个'yimeng'的字符串；\n",
    "\n",
    "2 在内存中创建了一个名为a的变量，并把它指向'yimeng'。\n",
    "\n",
    "也可以把一个变量a赋值给另一个变量b，这个操作实际上是把变量b指向变量a所指向的数据"
   ]
  },
  {
   "cell_type": "code",
   "execution_count": 2,
   "metadata": {
    "collapsed": false
   },
   "outputs": [],
   "source": [
    "a = 'ABC'\n",
    "b = a\n",
    "a = 'XYZ'\n",
    "#print(b)"
   ]
  },
  {
   "cell_type": "markdown",
   "metadata": {},
   "source": [
    "---\n",
    "\n",
    "### print() 和 input() 用法\n",
    "\n",
    "print() 用来显示内容，input()用来输入内容，在类似命令行的操作中，这两条语句非常有用。\n",
    "\n",
    "print() 也支持格式化输出，类似于 c 语言中的 printf。\n",
    "\n",
    "\n"
   ]
  },
  {
   "cell_type": "code",
   "execution_count": 8,
   "metadata": {
    "collapsed": false
   },
   "outputs": [
    {
     "name": "stdout",
     "output_type": "stream",
     "text": [
      "100\n",
      "100\n",
      "100 200 300\n"
     ]
    }
   ],
   "source": [
    "print(100)\n",
    "\n",
    "a = 100\n",
    "print(a)\n",
    "\n",
    "print(100, 200, 300)"
   ]
  },
  {
   "cell_type": "code",
   "execution_count": 3,
   "metadata": {
    "collapsed": false
   },
   "outputs": [
    {
     "name": "stdout",
     "output_type": "stream",
     "text": [
      "name:David\n",
      "hello David\n"
     ]
    }
   ],
   "source": [
    "name = input('name:')\n",
    "print( 'hello', name) "
   ]
  },
  {
   "cell_type": "code",
   "execution_count": 3,
   "metadata": {
    "collapsed": false
   },
   "outputs": [
    {
     "name": "stdout",
     "output_type": "stream",
     "text": [
      "small\n"
     ]
    }
   ],
   "source": [
    "a = 10\n",
    "if a > 10:\n",
    "    print('big')\n",
    "else:\n",
    "    print('small')"
   ]
  },
  {
   "cell_type": "code",
   "execution_count": 4,
   "metadata": {
    "collapsed": false
   },
   "outputs": [
    {
     "name": "stdout",
     "output_type": "stream",
     "text": [
      "0\n",
      "1\n",
      "2\n",
      "3\n",
      "4\n",
      "5\n",
      "6\n",
      "7\n",
      "8\n",
      "9\n",
      "10\n",
      "11\n",
      "12\n"
     ]
    }
   ],
   "source": [
    "for i in range(13):\n",
    "    print(i)"
   ]
  },
  {
   "cell_type": "code",
   "execution_count": 3,
   "metadata": {
    "collapsed": false
   },
   "outputs": [
    {
     "name": "stdout",
     "output_type": "stream",
     "text": [
      "h\n",
      "e\n",
      "l\n",
      "l\n",
      "o\n"
     ]
    }
   ],
   "source": [
    "for i in 'hello':\n",
    "    print(i)"
   ]
  },
  {
   "cell_type": "code",
   "execution_count": 4,
   "metadata": {
    "collapsed": false
   },
   "outputs": [
    {
     "name": "stdout",
     "output_type": "stream",
     "text": [
      "The length of hello is 5\n"
     ]
    }
   ],
   "source": [
    "# 支持格式化的 print\n",
    "\n",
    "s = 'hello'\n",
    "x = len(s)  \n",
    "print('The length of %s is %d' % (s,x))  "
   ]
  },
  {
   "cell_type": "code",
   "execution_count": 5,
   "metadata": {
    "collapsed": false
   },
   "outputs": [
    {
     "name": "stdout",
     "output_type": "stream",
     "text": [
      "hello from English\n",
      "hello from English\n"
     ]
    }
   ],
   "source": [
    "# 更加好，更加 pythonic 的写法：format函数-增强的格式化字符串函数\n",
    "# 关于format的更多细节，参见 https://docs.python.org/3/library/string.html#format-string-syntax\n",
    "# 通过关键字传参\n",
    "print('{greet} from {language}'.format(greet='hello', language='English'))\n",
    "\n",
    "# 通过位置传参\n",
    "print('{0} from {1}'.format('hello', 'English'))"
   ]
  },
  {
   "cell_type": "markdown",
   "metadata": {
    "collapsed": true
   },
   "source": [
    "---\n",
    "\n",
    "print() 格式化输出说明\n",
    "* %字符：标记转换说明符的开始\n",
    "\n",
    "* 转换标志：-表示左对齐；+表示在转换值之前要加上正负号；“”（空白字符）表示正数之前保留空格；0表示转换值若位数不够则用0填充。\n",
    "\n",
    "* 最小字段宽度：转换后的字符串至少应该具有该值指定的宽度。如果是*，则宽度会从值元组中读出。\n",
    "\n",
    "* 点(.)后跟精度值：如果转换的是实数，精度值就表示出现在小数点后的位数。如果转换的是字符串，那么该数字就表示最大字段宽度。如果是*，那么精度将从元组中读出。\n",
    "\n",
    "* 字符串格式化转换类型。\n",
    "\n",
    "转换类型          含义\n",
    "* d,i：带符号的十进制整数\n",
    "* o：不带符号的八进制\n",
    "* u：不带符号的十进制\n",
    "* x：不带符号的十六进制（小写）\n",
    "* X：不带符号的十六进制（大写）\n",
    "* e：科学计数法表示的浮点数（小写）\n",
    "* E：科学计数法表示的浮点数（大写）\n",
    "* f,F：十进制浮点数\n",
    "* g：如果指数大于-4或者小于精度值则和e相同，其他情况和f相同\n",
    "* G：如果指数大于-4或者小于精度值则和E相同，其他情况和F相同\n",
    "* C：单字符（接受整数或者单字符字符串）\n",
    "* r：字符串（使用repr转换任意python对象)\n",
    "* s：字符串（使用str转换任意python对象）"
   ]
  },
  {
   "cell_type": "code",
   "execution_count": 10,
   "metadata": {
    "collapsed": false
   },
   "outputs": [
    {
     "name": "stdout",
     "output_type": "stream",
     "text": [
      "     3.142\n",
      "pi = 3.142\n",
      "000003.142\n",
      "3.142     \n",
      "+3.141593\n"
     ]
    }
   ],
   "source": [
    "# 格式化 print 举例\n",
    "\n",
    "pi = 3.141592653  \n",
    "\n",
    "print('%10.3f' % pi) #字段宽10，精度3 \n",
    "\n",
    "print(\"pi = %.*f\" % (3,pi)) #用*从后面的元组中读取字段宽度或精度  \n",
    "  \n",
    "print('%010.3f' % pi) #用0填充空白  \n",
    "  \n",
    "print('%-10.3f' % pi) #左对齐  \n",
    "       \n",
    "print('%+f' % pi) #显示正"
   ]
  },
  {
   "cell_type": "markdown",
   "metadata": {
    "collapsed": true
   },
   "source": [
    "### python 开发环境介绍\n",
    "\n",
    "python 的开发环境有几百个，一般的学习、调试用 python 自带的 shell、IDLE 即可，用 jupyter notebook 也可以满足很多需求。\n",
    "\n",
    "真正的日常开发还是需要专业的编辑器，推荐 PyCharm，分为商业版本和免费的教育版本，免费版本用在一般的开发已经绰绰有余。\n",
    "\n",
    "---\n",
    "\n",
    "#### pycharm 介绍\n",
    "\n",
    "![](imgs/pycharm.png)\n",
    "\n",
    "Pycharm 目前最新版本是 2016.3，下载链接：https://www.jetbrains.com/pycharm/download/ "
   ]
  },
  {
   "cell_type": "code",
   "execution_count": null,
   "metadata": {
    "collapsed": true
   },
   "outputs": [],
   "source": []
  }
 ],
 "metadata": {
  "anaconda-cloud": {},
  "kernelspec": {
   "display_name": "Python 3",
   "language": "python",
   "name": "python3"
  },
  "language_info": {
   "codemirror_mode": {
    "name": "ipython",
    "version": 3
   },
   "file_extension": ".py",
   "mimetype": "text/x-python",
   "name": "python",
   "nbconvert_exporter": "python",
   "pygments_lexer": "ipython3",
   "version": "3.5.1"
  }
 },
 "nbformat": 4,
 "nbformat_minor": 0
}
